{
 "cells": [
  {
   "cell_type": "markdown",
   "metadata": {
    "application/vnd.databricks.v1+cell": {
     "cellMetadata": {},
     "inputWidgets": {},
     "nuid": "e95c8864-0502-4040-b1cc-52cea0337eaf",
     "showTitle": false,
     "title": ""
    }
   },
   "source": [
    "# Assignment 2"
   ]
  },
  {
   "cell_type": "code",
   "execution_count": 12,
   "metadata": {},
   "outputs": [
    {
     "name": "stderr",
     "output_type": "stream",
     "text": [
      "Setting default log level to \"WARN\".\n",
      "To adjust logging level use sc.setLogLevel(newLevel). For SparkR, use setLogLevel(newLevel).\n",
      "24/08/26 01:47:23 WARN NativeCodeLoader: Unable to load native-hadoop library for your platform... using builtin-java classes where applicable\n",
      "24/08/26 01:47:24 WARN Utils: Service 'SparkUI' could not bind on port 4040. Attempting port 4041.\n"
     ]
    }
   ],
   "source": [
    "from pyspark.sql import SparkSession\n",
    "\n",
    "# Initialize Spark session\n",
    "spark = SparkSession.builder \\\n",
    "    .appName(\"TransactionRecordAnalysis\") \\\n",
    "    .getOrCreate()\n"
   ]
  },
  {
   "cell_type": "code",
   "execution_count": 3,
   "metadata": {
    "application/vnd.databricks.v1+cell": {
     "cellMetadata": {},
     "inputWidgets": {},
     "nuid": "96c9944c-1668-46ec-9e23-6f5aa389fbe8",
     "showTitle": false,
     "title": ""
    }
   },
   "outputs": [],
   "source": [
    "# =================================================================================================\n",
    "# Authors: Andrei Landayan Angeles (), Chathu Siriwardena (), Mark Sturtz (218306846)\n",
    "# Description: Code document for group assessment task 2.\n",
    "# =================================================================================================\n",
    "# Version     |    Date      |    Author        |  Updates\n",
    "# 0.1         |  23-Aug-2024 |    Andrei        |  Initial Version - Creating Git Repo\n",
    "# 0.2         |  25-Aug-2024 |    Mark          |  Minor changes to log, add library imports & load data in spark df\n"
   ]
  },
  {
   "cell_type": "markdown",
   "metadata": {
    "application/vnd.databricks.v1+cell": {
     "cellMetadata": {},
     "inputWidgets": {},
     "nuid": "26831c32-0452-43f3-a33d-b309800f7476",
     "showTitle": false,
     "title": ""
    }
   },
   "source": [
    "#### Library Imports"
   ]
  },
  {
   "cell_type": "code",
   "execution_count": 29,
   "metadata": {
    "application/vnd.databricks.v1+cell": {
     "cellMetadata": {
      "byteLimit": 2048000,
      "rowLimit": 10000
     },
     "inputWidgets": {},
     "nuid": "4d7cee5b-4c8c-48f1-90c0-4d34c4805e47",
     "showTitle": false,
     "title": ""
    }
   },
   "outputs": [],
   "source": [
    "import pandas as pd \n",
    "import os "
   ]
  },
  {
   "cell_type": "markdown",
   "metadata": {
    "application/vnd.databricks.v1+cell": {
     "cellMetadata": {},
     "inputWidgets": {},
     "nuid": "b32c5cd8-5b30-4ba2-a960-5322514f90d0",
     "showTitle": false,
     "title": ""
    }
   },
   "source": [
    "#### Load Data"
   ]
  },
  {
   "cell_type": "code",
   "execution_count": 33,
   "metadata": {
    "application/vnd.databricks.v1+cell": {
     "cellMetadata": {
      "byteLimit": 2048000,
      "rowLimit": 10000
     },
     "inputWidgets": {},
     "nuid": "573e49f0-e1ae-45d4-aff1-591339681af1",
     "showTitle": false,
     "title": ""
    }
   },
   "outputs": [
    {
     "name": "stderr",
     "output_type": "stream",
     "text": [
      "24/08/26 23:58:49 WARN TaskSetManager: Stage 20 contains a task of very large size (7465 KiB). The maximum recommended task size is 1000 KiB.\n",
      "24/08/26 23:58:53 WARN PythonRunner: Detected deadlock while completing task 0.0 in stage 20 (TID 34): Attempting to kill Python Worker\n",
      "                                                                                \r"
     ]
    },
    {
     "data": {
      "text/plain": [
       "[Row(TransactionNo='581482', Date='12/9/2019', ProductNo='22485', ProductName='Set Of 2 Wooden Market Crates', Product_category='0ca', Price=21.47, Quantity=12, CustomerNo=17490, Country='United Kingdom'),\n",
       " Row(TransactionNo='581475', Date='12/9/2019', ProductNo='22596', ProductName='Christmas Star Wish List Chalkboard', Product_category='0ca', Price=10.65, Quantity=36, CustomerNo=13069, Country='United Kingdom'),\n",
       " Row(TransactionNo='581475', Date='12/9/2019', ProductNo='23235', ProductName='Storage Tin Vintage Leaf', Product_category='0ca', Price=11.53, Quantity=12, CustomerNo=13069, Country='United Kingdom'),\n",
       " Row(TransactionNo='581475', Date='12/9/2019', ProductNo='23272', ProductName='Tree T-Light Holder Willie Winkie', Product_category='0ca', Price=10.65, Quantity=12, CustomerNo=13069, Country='United Kingdom'),\n",
       " Row(TransactionNo='581475', Date='12/9/2019', ProductNo='23239', ProductName='Set Of 4 Knick Knack Tins Poppies', Product_category='0ca', Price=11.94, Quantity=6, CustomerNo=13069, Country='United Kingdom')]"
      ]
     },
     "metadata": {},
     "output_type": "display_data"
    }
   ],
   "source": [
    "# define external path with getcwd()\n",
    "external_path = os.getcwd()\n",
    "\n",
    "# define path do data\n",
    "data_path = 'transactionrecord'\n",
    "\n",
    "# create spark df from pandas df\n",
    "df = spark.createDataFrame(pd.read_table(data_path, delimiter=','))\n",
    "\n",
    "# displays the first 5 rows\n",
    "display(df.head(n=5))"
   ]
  },
  {
   "cell_type": "markdown",
   "metadata": {
    "application/vnd.databricks.v1+cell": {
     "cellMetadata": {},
     "inputWidgets": {},
     "nuid": "d1d2d432-1226-4f37-bc63-5581a487fbc0",
     "showTitle": false,
     "title": ""
    }
   },
   "source": [
    "## Part 1\n",
    "\n",
    "##### Answer 1.1"
   ]
  },
  {
   "cell_type": "code",
   "execution_count": 32,
   "metadata": {
    "application/vnd.databricks.v1+cell": {
     "cellMetadata": {},
     "inputWidgets": {},
     "nuid": "487b8d74-a5ae-4477-a090-1de4c87c9a2b",
     "showTitle": false,
     "title": ""
    }
   },
   "outputs": [
    {
     "name": "stderr",
     "output_type": "stream",
     "text": [
      "24/08/26 23:57:39 WARN TaskSetManager: Stage 19 contains a task of very large size (7465 KiB). The maximum recommended task size is 1000 KiB.\n",
      "[Stage 19:>                                                         (0 + 1) / 1]\r"
     ]
    },
    {
     "name": "stdout",
     "output_type": "stream",
     "text": [
      "+-------------+---------+---------+--------------------+----------------+-----+--------+----------+--------------+--------------------+-------+\n",
      "|TransactionNo|     Date|ProductNo|         ProductName|Product_category|Price|Quantity|CustomerNo|       Country| productName_process|Revenue|\n",
      "+-------------+---------+---------+--------------------+----------------+-----+--------+----------+--------------+--------------------+-------+\n",
      "|       581482|12/9/2019|    22485|Set Of 2 Wooden M...|             0ca|21.47|      12|     17490|United Kingdom|SetOfWoodenMarket...| 257.64|\n",
      "|       581475|12/9/2019|    22596|Christmas Star Wi...|             0ca|10.65|      36|     13069|United Kingdom|ChristmasStarWish...|  383.4|\n",
      "|       581475|12/9/2019|    23235|Storage Tin Vinta...|             0ca|11.53|      12|     13069|United Kingdom|StorageTinVintage...| 138.36|\n",
      "|       581475|12/9/2019|    23272|Tree T-Light Hold...|             0ca|10.65|      12|     13069|United Kingdom|TreeTLightHolderW...|  127.8|\n",
      "|       581475|12/9/2019|    23239|Set Of 4 Knick Kn...|             0ca|11.94|       6|     13069|United Kingdom|SetOfKnickKnackTi...|  71.64|\n",
      "+-------------+---------+---------+--------------------+----------------+-----+--------+----------+--------------+--------------------+-------+\n",
      "only showing top 5 rows\n",
      "\n"
     ]
    },
    {
     "name": "stderr",
     "output_type": "stream",
     "text": [
      "24/08/26 23:57:43 WARN PythonRunner: Detected deadlock while completing task 0.0 in stage 19 (TID 33): Attempting to kill Python Worker\n",
      "                                                                                \r"
     ]
    }
   ],
   "source": [
    "from pyspark.sql.functions import regexp_replace, col\n",
    "\n",
    "# Looks and replaces 'NA' in CustomerNo column with '-1'\n",
    "df = df.withColumn(\"CustomerNo\", regexp_replace(\"CustomerNo\", \"NA\", \"-1\"))\n",
    "\n",
    "# Processes the productName column to only have alphabet characters\n",
    "df = df.withColumn(\"productName_process\", regexp_replace(col(\"ProductName\"), \"[^A-Za-z]\", \"\"))\n",
    "\n",
    "# Displays the first five rows of the transactionrecord\n",
    "df.show(5)\n"
   ]
  },
  {
   "cell_type": "markdown",
   "metadata": {
    "application/vnd.databricks.v1+cell": {
     "cellMetadata": {},
     "inputWidgets": {},
     "nuid": "69847ed4-ab24-4497-b091-12ab01a2a665",
     "showTitle": false,
     "title": ""
    }
   },
   "source": [
    "##### Answer 1.2"
   ]
  },
  {
   "cell_type": "code",
   "execution_count": null,
   "metadata": {
    "application/vnd.databricks.v1+cell": {
     "cellMetadata": {},
     "inputWidgets": {},
     "nuid": "4f44ea2d-5e6c-4697-a44d-aeb41f6e2799",
     "showTitle": false,
     "title": ""
    }
   },
   "outputs": [],
   "source": []
  },
  {
   "cell_type": "markdown",
   "metadata": {
    "application/vnd.databricks.v1+cell": {
     "cellMetadata": {},
     "inputWidgets": {},
     "nuid": "2c6d8ff8-78d8-443d-89ba-961c912866f2",
     "showTitle": false,
     "title": ""
    }
   },
   "source": [
    "##### Answer 1.3"
   ]
  },
  {
   "cell_type": "code",
   "execution_count": null,
   "metadata": {
    "application/vnd.databricks.v1+cell": {
     "cellMetadata": {},
     "inputWidgets": {},
     "nuid": "e7df21f2-f01f-46af-a774-24f7bafb6089",
     "showTitle": false,
     "title": ""
    }
   },
   "outputs": [],
   "source": []
  },
  {
   "cell_type": "markdown",
   "metadata": {
    "application/vnd.databricks.v1+cell": {
     "cellMetadata": {},
     "inputWidgets": {},
     "nuid": "f7259270-e8f0-43cf-b1b1-acc2c9f7563b",
     "showTitle": false,
     "title": ""
    }
   },
   "source": [
    "## Part 2\n",
    "\n",
    "##### Answer 2.1"
   ]
  },
  {
   "cell_type": "code",
   "execution_count": null,
   "metadata": {
    "application/vnd.databricks.v1+cell": {
     "cellMetadata": {},
     "inputWidgets": {},
     "nuid": "1d83e990-16dc-471e-b167-aba2c7d198f6",
     "showTitle": false,
     "title": ""
    }
   },
   "outputs": [],
   "source": []
  }
 ],
 "metadata": {
  "application/vnd.databricks.v1+notebook": {
   "dashboards": [],
   "environmentMetadata": null,
   "language": "python",
   "notebookMetadata": {
    "pythonIndentUnit": 4
   },
   "notebookName": "SIT742AssignmentTask2",
   "widgets": {}
  },
  "kernelspec": {
   "display_name": "Python 3 (ipykernel)",
   "language": "python",
   "name": "python3"
  },
  "language_info": {
   "codemirror_mode": {
    "name": "ipython",
    "version": 3
   },
   "file_extension": ".py",
   "mimetype": "text/x-python",
   "name": "python",
   "nbconvert_exporter": "python",
   "pygments_lexer": "ipython3",
   "version": "3.9.6"
  }
 },
 "nbformat": 4,
 "nbformat_minor": 0
}
