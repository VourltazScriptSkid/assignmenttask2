{
 "cells": [
  {
   "cell_type": "markdown",
   "metadata": {
    "application/vnd.databricks.v1+cell": {
     "cellMetadata": {},
     "inputWidgets": {},
     "nuid": "e95c8864-0502-4040-b1cc-52cea0337eaf",
     "showTitle": false,
     "title": ""
    }
   },
   "source": [
    "# Assignment 2"
   ]
  },
  {
   "cell_type": "code",
   "execution_count": 0,
   "metadata": {
    "application/vnd.databricks.v1+cell": {
     "cellMetadata": {},
     "inputWidgets": {},
     "nuid": "96c9944c-1668-46ec-9e23-6f5aa389fbe8",
     "showTitle": false,
     "title": ""
    }
   },
   "outputs": [],
   "source": [
    "# =================================================================================================\n",
    "# Authors: Andrei Landayan Angeles (), Chathu Siriwardena (), Mark Sturtz (218306846)\n",
    "# Description: Code document for group assessment task 2.\n",
    "# =================================================================================================\n",
    "# Version     |    Date      |    Author        |  Updates\n",
    "# 0.1         |  23-Aug-2024 |    Andrei        |  Initial Version - Creating Git Repo\n",
    "# 0.2         |  25-Aug-2024 |    Mark          |  Minor changes to log, add library imports & load data in spark df\n"
   ]
  },
  {
   "cell_type": "markdown",
   "metadata": {
    "application/vnd.databricks.v1+cell": {
     "cellMetadata": {},
     "inputWidgets": {},
     "nuid": "26831c32-0452-43f3-a33d-b309800f7476",
     "showTitle": false,
     "title": ""
    }
   },
   "source": [
    "#### Library Imports"
   ]
  },
  {
   "cell_type": "code",
   "execution_count": 0,
   "metadata": {
    "application/vnd.databricks.v1+cell": {
     "cellMetadata": {
      "byteLimit": 2048000,
      "rowLimit": 10000
     },
     "inputWidgets": {},
     "nuid": "4d7cee5b-4c8c-48f1-90c0-4d34c4805e47",
     "showTitle": false,
     "title": ""
    }
   },
   "outputs": [],
   "source": [
    "import pandas as pd \n",
    "import os "
   ]
  },
  {
   "cell_type": "markdown",
   "metadata": {
    "application/vnd.databricks.v1+cell": {
     "cellMetadata": {},
     "inputWidgets": {},
     "nuid": "b32c5cd8-5b30-4ba2-a960-5322514f90d0",
     "showTitle": false,
     "title": ""
    }
   },
   "source": [
    "#### Load Data"
   ]
  },
  {
   "cell_type": "code",
   "execution_count": 0,
   "metadata": {
    "application/vnd.databricks.v1+cell": {
     "cellMetadata": {
      "byteLimit": 2048000,
      "rowLimit": 10000
     },
     "inputWidgets": {},
     "nuid": "573e49f0-e1ae-45d4-aff1-591339681af1",
     "showTitle": false,
     "title": ""
    }
   },
   "outputs": [],
   "source": [
    "# define external path with getcwd()\n",
    "external_path = os.getcwd()\n",
    "\n",
    "# define path do data\n",
    "data_path = external_path+'/data/transactionrecord'\n",
    "\n",
    "# create spark df from pandas df\n",
    "df = spark.createDataFrame(pd.read_table(data_path, delimiter=','))\n",
    "\n",
    "# display the first 10 rows\n",
    "display(df.head(n=10))"
   ]
  },
  {
   "cell_type": "markdown",
   "metadata": {
    "application/vnd.databricks.v1+cell": {
     "cellMetadata": {},
     "inputWidgets": {},
     "nuid": "d1d2d432-1226-4f37-bc63-5581a487fbc0",
     "showTitle": false,
     "title": ""
    }
   },
   "source": [
    "## Part 1\n",
    "\n",
    "##### Answer 1.1"
   ]
  },
  {
   "cell_type": "code",
   "execution_count": 0,
   "metadata": {
    "application/vnd.databricks.v1+cell": {
     "cellMetadata": {},
     "inputWidgets": {},
     "nuid": "487b8d74-a5ae-4477-a090-1de4c87c9a2b",
     "showTitle": false,
     "title": ""
    }
   },
   "outputs": [],
   "source": []
  },
  {
   "cell_type": "markdown",
   "metadata": {
    "application/vnd.databricks.v1+cell": {
     "cellMetadata": {},
     "inputWidgets": {},
     "nuid": "69847ed4-ab24-4497-b091-12ab01a2a665",
     "showTitle": false,
     "title": ""
    }
   },
   "source": [
    "##### Answer 1.2"
   ]
  },
  {
   "cell_type": "code",
   "execution_count": 0,
   "metadata": {
    "application/vnd.databricks.v1+cell": {
     "cellMetadata": {},
     "inputWidgets": {},
     "nuid": "4f44ea2d-5e6c-4697-a44d-aeb41f6e2799",
     "showTitle": false,
     "title": ""
    }
   },
   "outputs": [],
   "source": []
  },
  {
   "cell_type": "markdown",
   "metadata": {
    "application/vnd.databricks.v1+cell": {
     "cellMetadata": {},
     "inputWidgets": {},
     "nuid": "2c6d8ff8-78d8-443d-89ba-961c912866f2",
     "showTitle": false,
     "title": ""
    }
   },
   "source": [
    "##### Answer 1.3"
   ]
  },
  {
   "cell_type": "code",
   "execution_count": 0,
   "metadata": {
    "application/vnd.databricks.v1+cell": {
     "cellMetadata": {},
     "inputWidgets": {},
     "nuid": "e7df21f2-f01f-46af-a774-24f7bafb6089",
     "showTitle": false,
     "title": ""
    }
   },
   "outputs": [],
   "source": []
  },
  {
   "cell_type": "markdown",
   "metadata": {
    "application/vnd.databricks.v1+cell": {
     "cellMetadata": {},
     "inputWidgets": {},
     "nuid": "f7259270-e8f0-43cf-b1b1-acc2c9f7563b",
     "showTitle": false,
     "title": ""
    }
   },
   "source": [
    "## Part 2\n",
    "\n",
    "##### Answer 2.1"
   ]
  },
  {
   "cell_type": "code",
   "execution_count": 0,
   "metadata": {
    "application/vnd.databricks.v1+cell": {
     "cellMetadata": {},
     "inputWidgets": {},
     "nuid": "1d83e990-16dc-471e-b167-aba2c7d198f6",
     "showTitle": false,
     "title": ""
    }
   },
   "outputs": [],
   "source": []
  }
 ],
 "metadata": {
  "application/vnd.databricks.v1+notebook": {
   "dashboards": [],
   "environmentMetadata": null,
   "language": "python",
   "notebookMetadata": {
    "pythonIndentUnit": 4
   },
   "notebookName": "SIT742AssignmentTask2",
   "widgets": {}
  },
  "kernelspec": {
   "display_name": "Python 3 (ipykernel)",
   "language": "python",
   "name": "python3"
  },
  "language_info": {
   "codemirror_mode": {
    "name": "ipython",
    "version": 3
   },
   "file_extension": ".py",
   "mimetype": "text/x-python",
   "name": "python",
   "nbconvert_exporter": "python",
   "pygments_lexer": "ipython3",
   "version": "3.9.6"
  }
 },
 "nbformat": 4,
 "nbformat_minor": 0
}
