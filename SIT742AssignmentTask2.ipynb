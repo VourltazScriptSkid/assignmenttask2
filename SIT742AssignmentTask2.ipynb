{
 "cells": [
  {
   "cell_type": "code",
   "execution_count": null,
   "id": "a0626abf-293a-4022-946a-a70363fdd397",
   "metadata": {},
   "outputs": [],
   "source": [
    "# =================================================================================================\n",
    "# Authors: Andrei, Chathu, Mark\n",
    "# Description: ------------\n",
    "# =================================================================================================\n",
    "# Version     |    Date      |      Author          |  Updates\n",
    "# 0.1         |  23-Aug-2024 |    Andrei            |  Initial Version - Creating Git Repo\n",
    "# 0.2         |  1-Aug-0000  |    Mark              |  \n",
    "# 0.3         |  6-Aug-0000  |    Chathu            |  \n"
   ]
  },
  {
   "cell_type": "code",
   "execution_count": 1,
   "id": "7919c587-7c40-4bc9-8f01-548251bbec81",
   "metadata": {},
   "outputs": [
    {
     "name": "stdout",
     "output_type": "stream",
     "text": [
      "Hello from assignmenttask2!\n"
     ]
    }
   ],
   "source": [
    "print(\"Hello from assignmenttask2!\")"
   ]
  },
  {
   "cell_type": "code",
   "execution_count": null,
   "id": "432155dd-3dcb-439e-b7d2-d55c61cbed52",
   "metadata": {},
   "outputs": [],
   "source": []
  }
 ],
 "metadata": {
  "kernelspec": {
   "display_name": "Python 3 (ipykernel)",
   "language": "python",
   "name": "python3"
  },
  "language_info": {
   "codemirror_mode": {
    "name": "ipython",
    "version": 3
   },
   "file_extension": ".py",
   "mimetype": "text/x-python",
   "name": "python",
   "nbconvert_exporter": "python",
   "pygments_lexer": "ipython3",
   "version": "3.9.6"
  }
 },
 "nbformat": 4,
 "nbformat_minor": 5
}
